{
 "cells": [
  {
   "cell_type": "code",
   "execution_count": 3,
   "metadata": {},
   "outputs": [],
   "source": [
    "#!pip install kornia --upgrade\n",
    "#!pip install pytorch_metric_learning"
   ]
  },
  {
   "cell_type": "code",
   "execution_count": 1,
   "metadata": {},
   "outputs": [],
   "source": [
    "%matplotlib inline \n",
    "%load_ext autoreload\n",
    "%autoreload 2\n",
    "import random\n",
    "import numpy as np\n",
    "from fastprogress.fastprogress import master_bar, progress_bar\n",
    "from fastai2.basics import *\n",
    "from fastcore import *\n",
    "from fastai2.vision.all import *\n",
    "from fastai2.callback.all import *\n",
    "from fastprogress import fastprogress\n",
    "from fastai2.callback.mixup import *\n",
    "from fastscript import *\n",
    "import torchvision as tv\n",
    "import kornia as K\n",
    "\n",
    "def imshow_torch(tensor, *kwargs):\n",
    "    plt.figure()\n",
    "    plt.imshow(K.tensor_to_image(tensor), *kwargs)\n",
    "    return"
   ]
  },
  {
   "cell_type": "code",
   "execution_count": 2,
   "metadata": {},
   "outputs": [],
   "source": [
    "train_ds_name = 'liberty'\n",
    "val_ds_name = 'notredame'\n",
    "val_ds_name2 = 'yosemite'\n",
    "\n",
    "ds_root = '/home/old-ufo/datasets/Brown/'"
   ]
  },
  {
   "cell_type": "code",
   "execution_count": 3,
   "metadata": {},
   "outputs": [],
   "source": [
    "import os\n",
    "import numpy as np\n",
    "from PIL import Image\n",
    "from typing import Any, Callable, List, Optional, Tuple, Union\n",
    "\n",
    "import torch\n",
    "import torchvision\n",
    "from torchvision.datasets import VisionDataset\n",
    "\n",
    "from torchvision.datasets.utils import download_url\n",
    "\n",
    "\n",
    "\n",
    "class PhotoTourRevisited(torchvision.datasets.VisionDataset):\n",
    "    \"\"\"`Learning Local Image Descriptors Data <http://phototour.cs.washington.edu/patches/default.htm>`_ Dataset.\n",
    "    Args:\n",
    "        root (string): Root directory where images are.\n",
    "        name (string): Name of the dataset to load.\n",
    "        transform (callable, optional): A function/transform that  takes in an PIL image\n",
    "            and returns a transformed version.\n",
    "        download (bool, optional): If true, downloads the dataset from the internet and\n",
    "            puts it in root directory. If dataset is already downloaded, it is not\n",
    "            downloaded again.\n",
    "    \"\"\"\n",
    "    urls = {\n",
    "        'notredame_harris': [\n",
    "            'http://matthewalunbrown.com/patchdata/notredame_harris.zip',\n",
    "            'notredame_harris.zip',\n",
    "            '69f8c90f78e171349abdf0307afefe4d'\n",
    "        ],\n",
    "        'yosemite_harris': [\n",
    "            'http://matthewalunbrown.com/patchdata/yosemite_harris.zip',\n",
    "            'yosemite_harris.zip',\n",
    "            'a73253d1c6fbd3ba2613c45065c00d46'\n",
    "        ],\n",
    "        'liberty_harris': [\n",
    "            'http://matthewalunbrown.com/patchdata/liberty_harris.zip',\n",
    "            'liberty_harris.zip',\n",
    "            'c731fcfb3abb4091110d0ae8c7ba182c'\n",
    "        ],\n",
    "        'notredame': [\n",
    "            'http://icvl.ee.ic.ac.uk/vbalnt/notredame.zip',\n",
    "            'notredame.zip',\n",
    "            '509eda8535847b8c0a90bbb210c83484'\n",
    "        ],\n",
    "        'yosemite': [\n",
    "            'http://icvl.ee.ic.ac.uk/vbalnt/yosemite.zip',\n",
    "            'yosemite.zip',\n",
    "            '533b2e8eb7ede31be40abc317b2fd4f0'\n",
    "        ],\n",
    "        'liberty': [\n",
    "            'http://icvl.ee.ic.ac.uk/vbalnt/liberty.zip',\n",
    "            'liberty.zip',\n",
    "            'fdd9152f138ea5ef2091746689176414'\n",
    "        ],\n",
    "    }\n",
    "    means = {'notredame': 0.4854, 'yosemite': 0.4844, 'liberty': 0.4437,\n",
    "             'notredame_harris': 0.4854, 'yosemite_harris': 0.4844, 'liberty_harris': 0.4437}\n",
    "    stds = {'notredame': 0.1864, 'yosemite': 0.1818, 'liberty': 0.2019,\n",
    "            'notredame_harris': 0.1864, 'yosemite_harris': 0.1818, 'liberty_harris': 0.2019}\n",
    "    lens = {'notredame': 468159, 'yosemite': 633587, 'liberty': 450092,\n",
    "            'liberty_harris': 379587, 'yosemite_harris': 450912, 'notredame_harris': 325295}\n",
    "    image_ext = 'bmp'\n",
    "    info_file = 'info.txt'\n",
    "    matches_files = 'm50_100000_100000_0.txt'\n",
    "    img_info_files = 'interest.txt'\n",
    "\n",
    "    def __init__(\n",
    "            self, root: str, name: str, train: bool = False,\n",
    "        transform: Optional[Callable] = None, download: bool = False\n",
    "    ) -> None:\n",
    "        super(PhotoTourRevisited, self).__init__(root)\n",
    "        self.name = name\n",
    "        self.data_dir = os.path.join(self.root, name)\n",
    "        self.data_down = os.path.join(self.root, '{}.zip'.format(name))\n",
    "        self.data_file = os.path.join(self.root, '{}.pt'.format(name))\n",
    "\n",
    "        self.train = train\n",
    "        self.mean = self.means[name]\n",
    "        self.std = self.stds[name]\n",
    "\n",
    "        if download:\n",
    "            self.download()\n",
    "\n",
    "        if not self._check_datafile_exists():\n",
    "            raise RuntimeError('Dataset not found.' +\n",
    "                               ' You can use download=True to download it')\n",
    "\n",
    "        # load the serialized data\n",
    "        self.data, self.labels, self.matches, self.img_idxs = torch.load(self.data_file)\n",
    "\n",
    "    def __getitem__(self, index: int) -> Union[torch.Tensor, Tuple[Any, Any, torch.Tensor]]:\n",
    "        \"\"\"\n",
    "        Args:\n",
    "            index (int): Index\n",
    "        Returns:\n",
    "            tuple: (data1, data2, matches)\n",
    "        \"\"\"\n",
    "        data = self.data[index]\n",
    "        if self.transform is not None:\n",
    "            data = self.transform(data)\n",
    "        if self.train:\n",
    "            return data\n",
    "        return data, self.labels[index], self.img_idxs[index]\n",
    "\n",
    "    def __len__(self) -> int:\n",
    "        return self.lens[self.name]\n",
    "\n",
    "\n",
    "    def _check_datafile_exists(self) -> bool:\n",
    "        return os.path.exists(self.data_file)\n",
    "\n",
    "    def _check_downloaded(self) -> bool:\n",
    "        return os.path.exists(self.data_dir)\n",
    "\n",
    "    def download(self) -> None:\n",
    "        if self._check_datafile_exists():\n",
    "            print('# Found cached data {}'.format(self.data_file))\n",
    "            return\n",
    "\n",
    "        if not self._check_downloaded():\n",
    "            # download files\n",
    "            url = self.urls[self.name][0]\n",
    "            filename = self.urls[self.name][1]\n",
    "            md5 = self.urls[self.name][2]\n",
    "            fpath = os.path.join(self.root, filename)\n",
    "\n",
    "            download_url(url, self.root, filename, md5)\n",
    "\n",
    "            print('# Extracting data {}\\n'.format(self.data_down))\n",
    "\n",
    "            import zipfile\n",
    "            with zipfile.ZipFile(fpath, 'r') as z:\n",
    "                z.extractall(self.data_dir)\n",
    "\n",
    "            os.unlink(fpath)\n",
    "\n",
    "        # process and save as torch files\n",
    "        print('# Caching data {}'.format(self.data_file))\n",
    "\n",
    "        dataset = (\n",
    "            read_image_file(self.data_dir, self.image_ext, self.lens[self.name]),\n",
    "            read_info_file(self.data_dir, self.info_file),\n",
    "            read_matches_files(self.data_dir, self.matches_files),\n",
    "            read_interest_file(self.data_dir, self.img_info_files)\n",
    "        )\n",
    "\n",
    "        with open(self.data_file, 'wb') as f:\n",
    "            torch.save(dataset, f)\n",
    "\n",
    "    def extra_repr(self) -> str:\n",
    "        return \"Split: {}\".format(\"Train\" if self.train is True else \"Test\")\n",
    "\n",
    "\n",
    "def read_image_file(data_dir: str, image_ext: str, n: int) -> torch.Tensor:\n",
    "    \"\"\"Return a Tensor containing the patches\n",
    "    \"\"\"\n",
    "\n",
    "    def PIL2array(_img: Image.Image) -> np.ndarray:\n",
    "        \"\"\"Convert PIL image type to numpy 2D array\n",
    "        \"\"\"\n",
    "        return np.array(_img.getdata(), dtype=np.uint8).reshape(64, 64)\n",
    "\n",
    "    def find_files(_data_dir: str, _image_ext: str) -> List[str]:\n",
    "        \"\"\"Return a list with the file names of the images containing the patches\n",
    "        \"\"\"\n",
    "        files = []\n",
    "        # find those files with the specified extension\n",
    "        for file_dir in os.listdir(_data_dir):\n",
    "            if file_dir.endswith(_image_ext):\n",
    "                files.append(os.path.join(_data_dir, file_dir))\n",
    "        return sorted(files)  # sort files in ascend order to keep relations\n",
    "\n",
    "    patches = []\n",
    "    list_files = find_files(data_dir, image_ext)\n",
    "\n",
    "    for fpath in list_files:\n",
    "        img = Image.open(fpath)\n",
    "        for y in range(0, 1024, 64):\n",
    "            for x in range(0, 1024, 64):\n",
    "                patch = img.crop((x, y, x + 64, y + 64))\n",
    "                patches.append(PIL2array(patch))\n",
    "    return torch.ByteTensor(np.array(patches[:n])).float()\n",
    "\n",
    "\n",
    "def read_info_file(data_dir: str, info_file: str) -> torch.Tensor:\n",
    "    \"\"\"Return a Tensor containing the list of labels\n",
    "       Read the file and keep only the ID of the 3D point.\n",
    "    \"\"\"\n",
    "    labels = []\n",
    "    with open(os.path.join(data_dir, info_file), 'r') as f:\n",
    "        labels = [int(line.split()[0]) for line in f]\n",
    "    return torch.LongTensor(labels)\n",
    "\n",
    "def read_interest_file(data_dir: str, info_file: str) -> torch.Tensor:\n",
    "    \"\"\"Return a Tensor containing the list of image ids\n",
    "       Read the file and keep only the ID of the image point.\n",
    "    \"\"\"\n",
    "    labels = []\n",
    "    with open(os.path.join(data_dir, info_file), 'r') as f:\n",
    "        labels = [int(line.split()[0]) for line in f]\n",
    "    return torch.LongTensor(labels)\n",
    "\n",
    "\n",
    "def read_matches_files(data_dir: str, matches_file: str) -> torch.Tensor:\n",
    "    \"\"\"Return a Tensor containing the ground truth matches\n",
    "       Read the file and keep only 3D point ID.\n",
    "       Matches are represented with a 1, non matches with a 0.\n",
    "    \"\"\"\n",
    "    matches = []\n",
    "    with open(os.path.join(data_dir, matches_file), 'r') as f:\n",
    "        for line in f:\n",
    "            line_split = line.split()\n",
    "            matches.append([int(line_split[0]), int(line_split[3]),\n",
    "                            int(line_split[1] == line_split[4])])\n",
    "    return torch.LongTensor(matches)"
   ]
  },
  {
   "cell_type": "code",
   "execution_count": 4,
   "metadata": {},
   "outputs": [],
   "source": [
    "ds_root = '/home/old-ufo/datasets/Brown'\n",
    "lib_ds = PhotoTourRevisited(ds_root,\n",
    "                      'liberty',\n",
    "                       train=False, \n",
    "                       download=False)"
   ]
  },
  {
   "cell_type": "code",
   "execution_count": 5,
   "metadata": {},
   "outputs": [],
   "source": [
    "orig_size = 64\n",
    "out_size = 32\n",
    "test_aug = nn.Sequential( \n",
    "    K.Resize((out_size,out_size), interpolation='bicubic'))\n"
   ]
  },
  {
   "cell_type": "code",
   "execution_count": 6,
   "metadata": {},
   "outputs": [],
   "source": [
    "BS = 1024\n",
    "TEST_BS = 128\n",
    "N_WORKERS = 4\n",
    "\n",
    "from fastai2  import *\n",
    "# We need to transform all images\n",
    "class TupleAug(ItemTransform):\n",
    "    def __init__(self, tfm):\n",
    "        self.tfm = tfm\n",
    "    def encodes(self, o): \n",
    "        out = []\n",
    "        with torch.no_grad():\n",
    "            for i,oi in enumerate(o):\n",
    "                if i < len(o) - 2:\n",
    "                    out.append(self.tfm(oi.float().unsqueeze(1)))\n",
    "                else:\n",
    "                    out.append(oi)\n",
    "        return out\n",
    "    \n",
    "    \n"
   ]
  },
  {
   "cell_type": "code",
   "execution_count": 7,
   "metadata": {},
   "outputs": [],
   "source": [
    "dl_train = TfmdDL(lib_ds,\n",
    "                 device=torch.device('cuda:0'),\n",
    "                 after_item=[ToTensor], \n",
    "                 after_batch=[TupleAug(test_aug)], #two patches -> single tensor\n",
    "                 bs=BS, num_workers=N_WORKERS,\n",
    "                 shuffle = False)\n",
    "\n",
    "patches, labels, img_labels  = dl_train.one_batch()\n"
   ]
  },
  {
   "cell_type": "code",
   "execution_count": 8,
   "metadata": {},
   "outputs": [],
   "source": [
    "desc = K.feature.SIFTDescriptor(32, rootsift=True).to(torch.device('cuda:0'))"
   ]
  },
  {
   "cell_type": "code",
   "execution_count": 9,
   "metadata": {
    "scrolled": false
   },
   "outputs": [
    {
     "data": {
      "text/html": [
       "\n",
       "    <div>\n",
       "        <style>\n",
       "            /* Turns off some styling */\n",
       "            progress {\n",
       "                /* gets rid of default border in Firefox and Opera. */\n",
       "                border: none;\n",
       "                /* Needs to be in here for Safari polyfill so background images work as expected. */\n",
       "                background-size: auto;\n",
       "            }\n",
       "            .progress-bar-interrupted, .progress-bar-interrupted::-webkit-progress-bar {\n",
       "                background: #F44336;\n",
       "            }\n",
       "        </style>\n",
       "      <progress value='440' class='' max='440' style='width:300px; height:20px; vertical-align: middle;'></progress>\n",
       "      100.00% [440/440 00:49<00:00]\n",
       "    </div>\n",
       "    "
      ],
      "text/plain": [
       "<IPython.core.display.HTML object>"
      ]
     },
     "metadata": {},
     "output_type": "display_data"
    }
   ],
   "source": [
    "num_patches = len(dl_train.dataset)\n",
    "descriptors = torch.zeros(num_patches, 128)\n",
    "all_labels = torch.zeros(num_patches)\n",
    "all_img_labels = torch.zeros(num_patches)\n",
    "\n",
    "count = 0 \n",
    "\n",
    "for patches, labels, img_labels in progress_bar(dl_train):\n",
    "    with torch.no_grad():\n",
    "        descs = desc(patches)\n",
    "        descriptors[count:count+len(descs),:] = descs\n",
    "        all_labels[count:count+len(descs)] = labels\n",
    "        all_img_labels[count:count+len(descs)] = img_labels\n",
    "        count+=len(descs)"
   ]
  },
  {
   "cell_type": "code",
   "execution_count": 10,
   "metadata": {},
   "outputs": [],
   "source": [
    "from pytorch_metric_learning import losses, miners\n",
    "Miner = miners.BatchHardMiner()\n"
   ]
  },
  {
   "cell_type": "code",
   "execution_count": 69,
   "metadata": {},
   "outputs": [],
   "source": [
    "img_idxs = torch.unique(all_img_labels).long()\n",
    "is_correct = []#torch.zeros(len(all_img_labels)).long()\n",
    "snn_ratio =  []#torch.zeros(len(all_img_labels))"
   ]
  },
  {
   "cell_type": "code",
   "execution_count": 70,
   "metadata": {},
   "outputs": [
    {
     "data": {
      "text/html": [
       "\n",
       "    <div>\n",
       "        <style>\n",
       "            /* Turns off some styling */\n",
       "            progress {\n",
       "                /* gets rid of default border in Firefox and Opera. */\n",
       "                border: none;\n",
       "                /* Needs to be in here for Safari polyfill so background images work as expected. */\n",
       "                background-size: auto;\n",
       "            }\n",
       "            .progress-bar-interrupted, .progress-bar-interrupted::-webkit-progress-bar {\n",
       "                background: #F44336;\n",
       "            }\n",
       "        </style>\n",
       "      <progress value='183' class='' max='183' style='width:300px; height:20px; vertical-align: middle;'></progress>\n",
       "      100.00% [183/183 01:16<00:00]\n",
       "    </div>\n",
       "    "
      ],
      "text/plain": [
       "<IPython.core.display.HTML object>"
      ]
     },
     "metadata": {},
     "output_type": "display_data"
    }
   ],
   "source": [
    "\n",
    "count = 0\n",
    "for ii in progress_bar(img_idxs):\n",
    "    with torch.no_grad():\n",
    "        current_batch = all_img_labels == ii\n",
    "        cur_descs = descriptors[current_batch]\n",
    "        cur_labels = all_labels[current_batch]\n",
    "        anc, pos, neg = Miner(cur_descs, cur_labels)\n",
    "        NN = cur_labels.size(0)\n",
    "        pos_matrix = (cur_labels[None].expand(NN,NN) == cur_labels[...,None].expand(NN,NN)) != (torch.eye(NN)>0)\n",
    "        pos_idxs = torch.arange(NN)[None].expand(NN,NN)[pos_matrix]\n",
    "        anc_idxs = torch.nonzero(pos_matrix)[:,0]\n",
    "        neg_idxs = neg[anc_idxs]\n",
    "        \n",
    "        pos_dists = F.pairwise_distance(cur_descs[anc_idxs], cur_descs[pos_idxs])\n",
    "        neg_dists = F.pairwise_distance(cur_descs[anc_idxs], cur_descs[neg_idxs])\n",
    "        correct = pos_dists <= neg_dists\n",
    "        \n",
    "        snn = torch.min(pos_dists,neg_dists) / torch.max(pos_dists,neg_dists)\n",
    "        #print (correct.shape)\n",
    "        is_correct.append(correct)\n",
    "        snn_ratio.append(snn)\n",
    "        count+=+len(anc_idxs)\n",
    "is_correct = torch.cat(is_correct)\n",
    "snn_ratio = torch.cat(snn_ratio)\n",
    "\n",
    "\n",
    "\n",
    "    \n"
   ]
  },
  {
   "cell_type": "code",
   "execution_count": null,
   "metadata": {},
   "outputs": [],
   "source": []
  },
  {
   "cell_type": "code",
   "execution_count": 73,
   "metadata": {},
   "outputs": [],
   "source": [
    "ths =  np.linspace(0,1.0,20)"
   ]
  },
  {
   "cell_type": "code",
   "execution_count": 81,
   "metadata": {},
   "outputs": [
    {
     "name": "stdout",
     "output_type": "stream",
     "text": [
      "112999 0.0\n",
      "9 0.2222222238779068\n",
      "139 0.38129496574401855\n",
      "667 0.5442278981208801\n",
      "1964 0.6074337959289551\n",
      "4328 0.6150646805763245\n",
      "8428 0.5854295492172241\n",
      "14063 0.5340965390205383\n",
      "22318 0.4705170691013336\n",
      "33887 0.4274795651435852\n",
      "48357 0.39762598276138306\n",
      "64367 0.38261842727661133\n",
      "79988 0.36894282698631287\n",
      "93251 0.37181371450424194\n",
      "103500 0.3828599154949188\n",
      "109994 0.3977580666542053\n",
      "111455 0.4212103486061096\n",
      "110805 0.44368937611579895\n",
      "121881 0.5368022918701172\n",
      "0.44950484650002587\n"
     ]
    }
   ],
   "source": [
    "def average_acc_per_th(snn_ratio, is_correct, ths= np.linspace(0,1.0,20) ):\n",
    "    out = []\n",
    "    for prev_th, th in zip(ths[:-1], ths[1:]):\n",
    "        mask = (snn_ratio>prev_th) & (snn_ratio <= th)\n",
    "        #print (mask.sum())\n",
    "        AA = is_correct[mask].float().mean()\n",
    "        print (mask.sum().item(), AA.item())\n",
    "        out.append(AA.item())\n",
    "    return out\n",
    "hardnet_acc_per_th = average_acc_per_th(snn_ratio, is_correct, ths= np.linspace(0,1.0,20) )\n",
    "print (np.array(hardnet_acc_per_th[1:]).mean())"
   ]
  },
  {
   "cell_type": "code",
   "execution_count": 82,
   "metadata": {},
   "outputs": [
    {
     "data": {
      "text/plain": [
       "[<matplotlib.lines.Line2D at 0x7f2e2a59d750>]"
      ]
     },
     "execution_count": 82,
     "metadata": {},
     "output_type": "execute_result"
    },
    {
     "data": {
      "image/png": "[encoded data removed]",
      "text/plain": [
       "<Figure size 432x288 with 1 Axes>"
      ]
     },
     "metadata": {
      "needs_background": "light"
     },
     "output_type": "display_data"
    }
   ],
   "source": [
    "plt.plot(ths[1:-1], hardnet_acc_per_th[1:])"
   ]
  },
  {
   "cell_type": "code",
   "execution_count": 92,
   "metadata": {},
   "outputs": [
    {
     "data": {
      "text/plain": [
       "HardNet(\n",
       "  (features): Sequential(\n",
       "    (0): Conv2d(1, 32, kernel_size=(3, 3), stride=(1, 1), padding=(1, 1), bias=False)\n",
       "    (1): BatchNorm2d(32, eps=1e-05, momentum=0.1, affine=False, track_running_stats=True)\n",
       "    (2): ReLU()\n",
       "    (3): Conv2d(32, 32, kernel_size=(3, 3), stride=(1, 1), padding=(1, 1), bias=False)\n",
       "    (4): BatchNorm2d(32, eps=1e-05, momentum=0.1, affine=False, track_running_stats=True)\n",
       "    (5): ReLU()\n",
       "    (6): Conv2d(32, 64, kernel_size=(3, 3), stride=(2, 2), padding=(1, 1), bias=False)\n",
       "    (7): BatchNorm2d(64, eps=1e-05, momentum=0.1, affine=False, track_running_stats=True)\n",
       "    (8): ReLU()\n",
       "    (9): Conv2d(64, 64, kernel_size=(3, 3), stride=(1, 1), padding=(1, 1), bias=False)\n",
       "    (10): BatchNorm2d(64, eps=1e-05, momentum=0.1, affine=False, track_running_stats=True)\n",
       "    (11): ReLU()\n",
       "    (12): Conv2d(64, 128, kernel_size=(3, 3), stride=(2, 2), padding=(1, 1), bias=False)\n",
       "    (13): BatchNorm2d(128, eps=1e-05, momentum=0.1, affine=False, track_running_stats=True)\n",
       "    (14): ReLU()\n",
       "    (15): Conv2d(128, 128, kernel_size=(3, 3), stride=(1, 1), padding=(1, 1), bias=False)\n",
       "    (16): BatchNorm2d(128, eps=1e-05, momentum=0.1, affine=False, track_running_stats=True)\n",
       "    (17): ReLU()\n",
       "    (18): Dropout(p=0.3, inplace=False)\n",
       "    (19): Conv2d(128, 128, kernel_size=(8, 8), stride=(1, 1), bias=False)\n",
       "    (20): BatchNorm2d(128, eps=1e-05, momentum=0.1, affine=False, track_running_stats=True)\n",
       "  )\n",
       ")"
      ]
     },
     "execution_count": 92,
     "metadata": {},
     "output_type": "execute_result"
    }
   ],
   "source": [
    "desc = K.feature.SIFTDescriptor(32, rootsift=False).to(torch.device('cuda:0'))\n",
    "desc = K.feature.HardNet(True).to(torch.device('cuda:0'))\n",
    "desc.eval()"
   ]
  },
  {
   "cell_type": "code",
   "execution_count": 93,
   "metadata": {},
   "outputs": [
    {
     "data": {
      "text/html": [
       "\n",
       "    <div>\n",
       "        <style>\n",
       "            /* Turns off some styling */\n",
       "            progress {\n",
       "                /* gets rid of default border in Firefox and Opera. */\n",
       "                border: none;\n",
       "                /* Needs to be in here for Safari polyfill so background images work as expected. */\n",
       "                background-size: auto;\n",
       "            }\n",
       "            .progress-bar-interrupted, .progress-bar-interrupted::-webkit-progress-bar {\n",
       "                background: #F44336;\n",
       "            }\n",
       "        </style>\n",
       "      <progress value='440' class='' max='440' style='width:300px; height:20px; vertical-align: middle;'></progress>\n",
       "      100.00% [440/440 01:13<00:00]\n",
       "    </div>\n",
       "    "
      ],
      "text/plain": [
       "<IPython.core.display.HTML object>"
      ]
     },
     "metadata": {},
     "output_type": "display_data"
    },
    {
     "data": {
      "text/html": [
       "\n",
       "    <div>\n",
       "        <style>\n",
       "            /* Turns off some styling */\n",
       "            progress {\n",
       "                /* gets rid of default border in Firefox and Opera. */\n",
       "                border: none;\n",
       "                /* Needs to be in here for Safari polyfill so background images work as expected. */\n",
       "                background-size: auto;\n",
       "            }\n",
       "            .progress-bar-interrupted, .progress-bar-interrupted::-webkit-progress-bar {\n",
       "                background: #F44336;\n",
       "            }\n",
       "        </style>\n",
       "      <progress value='183' class='' max='183' style='width:300px; height:20px; vertical-align: middle;'></progress>\n",
       "      100.00% [183/183 01:21<00:00]\n",
       "    </div>\n",
       "    "
      ],
      "text/plain": [
       "<IPython.core.display.HTML object>"
      ]
     },
     "metadata": {},
     "output_type": "display_data"
    },
    {
     "name": "stdout",
     "output_type": "stream",
     "text": [
      "112999 0.0\n",
      "39 0.7179487347602844\n",
      "511 0.859099805355072\n",
      "2368 0.8627533912658691\n",
      "5724 0.9011180996894836\n",
      "11035 0.889533281326294\n",
      "18317 0.8933777213096619\n",
      "27784 0.883350133895874\n",
      "39215 0.8805049061775208\n",
      "51281 0.8621127009391785\n",
      "62274 0.8341522812843323\n",
      "72407 0.8047288060188293\n",
      "80016 0.7639597058296204\n",
      "85919 0.7187583446502686\n",
      "90490 0.666117787361145\n",
      "92674 0.6116278767585754\n",
      "92366 0.575190007686615\n",
      "89350 0.5324006676673889\n",
      "107631 0.598349928855896\n",
      "0.769726898935106\n"
     ]
    }
   ],
   "source": [
    "num_patches = len(dl_train.dataset)\n",
    "descriptors = torch.zeros(num_patches, 128)\n",
    "all_labels = torch.zeros(num_patches)\n",
    "all_img_labels = torch.zeros(num_patches)\n",
    "\n",
    "count = 0 \n",
    "\n",
    "for patches, labels, img_labels in progress_bar(dl_train):\n",
    "    with torch.no_grad():\n",
    "        descs = desc(patches)\n",
    "        descriptors[count:count+len(descs),:] = descs\n",
    "        all_labels[count:count+len(descs)] = labels\n",
    "        all_img_labels[count:count+len(descs)] = img_labels\n",
    "        count+=len(descs)\n",
    "img_idxs = torch.unique(all_img_labels).long()\n",
    "is_correct = []#torch.zeros(len(all_img_labels)).long()\n",
    "snn_ratio =  []#torch.zeros(len(all_img_labels))\n",
    "\n",
    "count = 0\n",
    "for ii in progress_bar(img_idxs):\n",
    "    with torch.no_grad():\n",
    "        current_batch = all_img_labels == ii\n",
    "        cur_descs = descriptors[current_batch]\n",
    "        cur_labels = all_labels[current_batch]\n",
    "        anc, pos, neg = Miner(cur_descs, cur_labels)\n",
    "        NN = cur_labels.size(0)\n",
    "        pos_matrix = (cur_labels[None].expand(NN,NN) == cur_labels[...,None].expand(NN,NN)) != (torch.eye(NN)>0)\n",
    "        pos_idxs = torch.arange(NN)[None].expand(NN,NN)[pos_matrix]\n",
    "        anc_idxs = torch.nonzero(pos_matrix)[:,0]\n",
    "        neg_idxs = neg[anc_idxs]\n",
    "        \n",
    "        pos_dists = F.pairwise_distance(cur_descs[anc_idxs], cur_descs[pos_idxs])\n",
    "        neg_dists = F.pairwise_distance(cur_descs[anc_idxs], cur_descs[neg_idxs])\n",
    "        correct = pos_dists <= neg_dists\n",
    "        \n",
    "        snn = torch.min(pos_dists,neg_dists) / torch.max(pos_dists,neg_dists)\n",
    "        #print (correct.shape)\n",
    "        is_correct.append(correct)\n",
    "        snn_ratio.append(snn)\n",
    "        count+=+len(anc_idxs)\n",
    "is_correct = torch.cat(is_correct)\n",
    "snn_ratio = torch.cat(snn_ratio)\n",
    "\n",
    "\n",
    "hn_acc_per_th = average_acc_per_th(snn_ratio, is_correct, ths= np.linspace(0,1.0,20) )\n",
    "print (np.array(hn_acc_per_th[1:]).mean())\n",
    "    \n"
   ]
  },
  {
   "cell_type": "code",
   "execution_count": 94,
   "metadata": {},
   "outputs": [
    {
     "data": {
      "text/plain": [
       "<matplotlib.legend.Legend at 0x7f2e27f80dd0>"
      ]
     },
     "execution_count": 94,
     "metadata": {},
     "output_type": "execute_result"
    },
    {
     "data": {
      "image/png": "[encoded data removed]",
      "text/plain": [
       "<Figure size 432x288 with 1 Axes>"
      ]
     },
     "metadata": {
      "needs_background": "light"
     },
     "output_type": "display_data"
    }
   ],
   "source": [
    "plt.plot(ths[1:-1], hardnet_acc_per_th[1:])\n",
    "plt.plot(ths[1:-1], sift_acc_per_th[1:])\n",
    "plt.plot(ths[1:-1], hn_acc_per_th[1:])\n",
    "\n",
    "plt.legend([f'RootSIFT, {np.array(hardnet_acc_per_th[1:]).mean():.3f}',\n",
    "            f'SIFT, {np.array(sift_acc_per_th[1:]).mean():.3f}',\n",
    "            f'HardNetLib, {np.array(hn_acc_per_th[1:]).mean():.3f}',\n",
    "           ])"
   ]
  },
  {
   "cell_type": "code",
   "execution_count": null,
   "metadata": {},
   "outputs": [],
   "source": []
  },
  {
   "cell_type": "code",
   "execution_count": null,
   "metadata": {},
   "outputs": [],
   "source": [
    "\n",
    "weights = ['model.state_dict',\n",
    "           'HardNetLib_fastai2KorniaAug',\n",
    "           'checkpoint_liberty_with_aug.pth',\n",
    "           'sosnet-32x32-liberty.pth', \n",
    "           'tfeat-liberty.params']\n",
    "models = [HardNet(), \n",
    "          HardNet(), \n",
    "          HardNet(),\n",
    "          SOSNet32x32(), \n",
    "          TNet()]"
   ]
  },
  {
   "cell_type": "markdown",
   "metadata": {},
   "source": []
  }
 ],
 "metadata": {
  "kernelspec": {
   "display_name": "Python 3",
   "language": "python",
   "name": "python3"
  },
  "language_info": {
   "codemirror_mode": {
    "name": "ipython",
    "version": 3
   },
   "file_extension": ".py",
   "mimetype": "text/x-python",
   "name": "python",
   "nbconvert_exporter": "python",
   "pygments_lexer": "ipython3",
   "version": "3.7.4"
  },
  "latex_envs": {
   "LaTeX_envs_menu_present": true,
   "autoclose": false,
   "autocomplete": true,
   "bibliofile": "biblio.bib",
   "cite_by": "apalike",
   "current_citInitial": 1,
   "eqLabelWithNumbers": true,
   "eqNumInitial": 1,
   "hotkeys": {
    "equation": "Ctrl-E",
    "itemize": "Ctrl-I"
   },
   "labels_anchors": false,
   "latex_user_defs": false,
   "report_style_numbering": false,
   "user_envs_cfg": false
  }
 },
 "nbformat": 4,
 "nbformat_minor": 4
}
